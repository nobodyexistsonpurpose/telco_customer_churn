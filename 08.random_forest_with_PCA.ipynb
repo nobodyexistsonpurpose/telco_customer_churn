{
 "cells": [
  {
   "cell_type": "markdown",
   "id": "c8278dcd-0d7a-43ea-ae2e-d4019f667ede",
   "metadata": {},
   "source": [
    "# Random Forest with PCA\n",
    "\n",
    "When we plotted several 3d scatter plots after PCA transformation we have noticed that the data is splitted into several areas with respect to different principal component. As we know Decision Trees and Random forest make splits exactly along some axis. That gives us some sense to use RandomForest on the transformed data\n",
    "\n",
    "In addition we will use SMOTE as we did it before"
   ]
  },
  {
   "cell_type": "code",
   "execution_count": 5,
   "id": "08b92b0d-e442-4564-946a-22253d9c48d3",
   "metadata": {},
   "outputs": [],
   "source": [
    "from imblearn.over_sampling import SMOTE\n",
    "from tqdm import tqdm\n",
    "import seaborn as sns\n",
    "import pandas as pd\n",
    "import numpy as np\n",
    "import matplotlib.pyplot as plt\n",
    "from sklearn.preprocessing import StandardScaler\n",
    "from sklearn.decomposition import PCA\n",
    "from sklearn.ensemble import RandomForestClassifier\n",
    "from sklearn.neighbors import KNeighborsClassifier\n",
    "from sklearn.svm import SVC\n",
    "from sklearn.ensemble import AdaBoostClassifier\n",
    "from sklearn.linear_model import LogisticRegression\n",
    "from sklearn.model_selection import train_test_split\n",
    "from sklearn.metrics import accuracy_score\n",
    "from sklearn import metrics\n",
    "from sklearn.model_selection import GridSearchCV\n",
    "from sklearn.metrics import recall_score, confusion_matrix, precision_score, f1_score, accuracy_score, classification_report\n",
    "import copy"
   ]
  },
  {
   "cell_type": "code",
   "execution_count": 4,
   "id": "0b818e43-4893-4a42-8ee3-3d7106378830",
   "metadata": {},
   "outputs": [],
   "source": [
    "data = pd.read_csv(\"data.csv\")\n",
    "enc_data = pd.read_csv(\"encoded_data.csv\")\n",
    "\n",
    "X = enc_data.drop(columns = ['Churn', \"customerID\"])\n",
    "y = enc_data['Churn'].values"
   ]
  },
  {
   "cell_type": "markdown",
   "id": "8c4e951c-1a39-424c-a788-fbcbbec3466a",
   "metadata": {},
   "source": [
    "## Splitting and PCA transformation"
   ]
  },
  {
   "cell_type": "code",
   "execution_count": 24,
   "id": "8a8c4620-8349-43b2-9d74-dfea13ab4ac2",
   "metadata": {},
   "outputs": [],
   "source": [
    "X_train, X_test, y_train, y_test = train_test_split(X, y, test_size=0.15, stratify=y)\n",
    "\n",
    "num_cols = [\"tenure\", 'MonthlyCharges', 'TotalCharges']\n",
    "\n",
    "scaler= StandardScaler()\n",
    "\n",
    "X_train[num_cols] = scaler.fit_transform(X_train[num_cols])\n",
    "X_test[num_cols] = scaler.transform(X_test[num_cols])\n",
    "\n",
    "pca = PCA(n_components = 10)\n",
    "\n",
    "X_train_reduced = pca.fit_transform(X_train)\n",
    "X_test_reduced = pca.transform(X_test)\n",
    "\n",
    "oversample = SMOTE(sampling_strategy='minority')\n",
    "\n",
    "X_train, y_train = oversample.fit_resample(X_train_reduced, y_train)\n",
    "X_test, y_test = X_test_reduced, y_test"
   ]
  },
  {
   "cell_type": "markdown",
   "id": "329ead66-0c89-40d7-bfa7-e21040992568",
   "metadata": {},
   "source": [
    "## RandomForest training\n",
    "\n",
    "During the RandomForest training we will iterate over the count of proncipal component that we have taken. From 1 to 10. On each iteration we will train the model and evaluate it so we can observe changes in results of classification."
   ]
  },
  {
   "cell_type": "code",
   "execution_count": 38,
   "id": "02c57ad5-d8c5-41a3-8149-c251ab9bf4de",
   "metadata": {},
   "outputs": [
    {
     "name": "stderr",
     "output_type": "stream",
     "text": [
      "100%|███████████████████████████████████████████| 10/10 [00:04<00:00,  2.19it/s]\n"
     ]
    }
   ],
   "source": [
    "f1_train = []\n",
    "f1_test = []\n",
    "\n",
    "for n_components in tqdm(range(1, 11)):\n",
    "    rf_model = RandomForestClassifier(n_estimators=120, n_jobs = -1, criterion=\"entropy\",\n",
    "                                      random_state=40, max_depth=13, min_samples_leaf=5)\n",
    "    rf_model.fit(X_train[:, :n_components], y_train)\n",
    "    predicted_test_y = rf_model.predict(X_test[:, :n_components])\n",
    "    predicted_train_y = rf_model.predict(X_train[:, :n_components])\n",
    "\n",
    "    f1_test.append(f1_score(y_test, predicted_test_y))\n",
    "    f1_train.append(f1_score(y_train, predicted_train_y))"
   ]
  },
  {
   "cell_type": "code",
   "execution_count": 39,
   "id": "4e227c6d-8a67-4e42-b9c2-9bf83f8c8fb9",
   "metadata": {},
   "outputs": [
    {
     "data": {
      "text/plain": [
       "<matplotlib.legend.Legend at 0x79d57afcbbd0>"
      ]
     },
     "execution_count": 39,
     "metadata": {},
     "output_type": "execute_result"
    },
    {
     "data": {
      "image/png": "[encoded data removed]",
      "text/plain": [
       "<Figure size 1000x400 with 1 Axes>"
      ]
     },
     "metadata": {},
     "output_type": "display_data"
    }
   ],
   "source": [
    "fig, ax = plt.subplots(figsize=(10, 4))\n",
    "ax.plot([i for i in range(1, 11)], f1_train, label=\"f1 score train\")\n",
    "ax.plot([i for i in range(1, 11)], f1_test, label=\"f1 score test\")\n",
    "ax.legend()"
   ]
  },
  {
   "cell_type": "markdown",
   "id": "61efb844-9168-4178-acc8-38535599ee6a",
   "metadata": {},
   "source": [
    "We see that the best f1-score we received for 3 principal components but generally after the second component the results' changing are not strong"
   ]
  },
  {
   "cell_type": "code",
   "execution_count": 41,
   "id": "76b5b1e7-d453-4bda-acfc-b01df6be88c5",
   "metadata": {},
   "outputs": [
    {
     "name": "stdout",
     "output_type": "stream",
     "text": [
      "              precision    recall  f1-score   support\n",
      "\n",
      "         0.0       0.89      0.79      0.84       777\n",
      "         1.0       0.55      0.72      0.63       280\n",
      "\n",
      "    accuracy                           0.77      1057\n",
      "   macro avg       0.72      0.76      0.73      1057\n",
      "weighted avg       0.80      0.77      0.78      1057\n",
      "\n"
     ]
    }
   ],
   "source": [
    "model_rf = RandomForestClassifier(n_estimators=200, n_jobs = -1, max_depth=13,\n",
    "                                  min_samples_leaf=10, criterion=\"entropy\")\n",
    "\n",
    "model_rf.fit(X_train[:, :5], y_train)\n",
    "predicted_y = model_rf.predict(X_test[:, :5])\n",
    "print(classification_report(y_test, predicted_y))"
   ]
  },
  {
   "cell_type": "code",
   "execution_count": null,
   "id": "c85a883c-3cda-468e-ac2e-e8f1ebaa4ea6",
   "metadata": {},
   "outputs": [],
   "source": []
  }
 ],
 "metadata": {
  "kernelspec": {
   "display_name": "Python 3 (ipykernel)",
   "language": "python",
   "name": "python3"
  },
  "language_info": {
   "codemirror_mode": {
    "name": "ipython",
    "version": 3
   },
   "file_extension": ".py",
   "mimetype": "text/x-python",
   "name": "python",
   "nbconvert_exporter": "python",
   "pygments_lexer": "ipython3",
   "version": "3.11.6"
  }
 },
 "nbformat": 4,
 "nbformat_minor": 5
}
