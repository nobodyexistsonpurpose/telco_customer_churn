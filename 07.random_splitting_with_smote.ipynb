{
 "cells": [
  {
   "cell_type": "markdown",
   "id": "e84939b8-fc0c-4006-a7db-cd690ef63f6e",
   "metadata": {},
   "source": [
    "## Problem with splitting \n",
    "\n",
    "In every of the previous notebook we did the follow steps. We splitted our sample into train and test with stratification across target feature and then used oversmpling algorithms like SMOTE or Random duplicating.\n",
    "\n",
    "The problem that could occur is that every time we used the same random state during splitting so after it we had the same train and test in every notebook.\n",
    "\n",
    "What if train sample that has been created has not enough information about the statistical population of our sample. And if we use some other splitting we will have other result on our test set.\n",
    "\n",
    "Here we will try to use some other random states for splitting and to get some better metrics' values"
   ]
  },
  {
   "cell_type": "code",
   "execution_count": 46,
   "id": "c6524cd0-61e0-4a6a-9fe2-c91a74b7ae95",
   "metadata": {},
   "outputs": [],
   "source": [
    "from imblearn.over_sampling import SMOTE\n",
    "from tqdm import tqdm\n",
    "import seaborn as sns\n",
    "import pandas as pd\n",
    "import numpy as np\n",
    "import matplotlib.pyplot as plt\n",
    "from sklearn.preprocessing import StandardScaler\n",
    "from sklearn.ensemble import RandomForestClassifier\n",
    "from sklearn.neighbors import KNeighborsClassifier\n",
    "from sklearn.svm import SVC\n",
    "from sklearn.ensemble import AdaBoostClassifier\n",
    "from sklearn.linear_model import LogisticRegression\n",
    "from sklearn.model_selection import train_test_split\n",
    "from sklearn.metrics import accuracy_score\n",
    "from sklearn import metrics\n",
    "from sklearn.model_selection import GridSearchCV\n",
    "from sklearn.metrics import recall_score, confusion_matrix, precision_score, f1_score, accuracy_score, classification_report\n",
    "import copy"
   ]
  },
  {
   "cell_type": "code",
   "execution_count": 47,
   "id": "7f17630a-a82f-401b-bf43-67a46faed78f",
   "metadata": {},
   "outputs": [],
   "source": [
    "data=pd.read_csv(\"data.csv\")\n",
    "enc_data=pd.read_csv(\"encoded_data.csv\")\n",
    "\n",
    "X = enc_data.drop(columns = ['Churn', \"customerID\"])\n",
    "y = enc_data['Churn'].values"
   ]
  },
  {
   "cell_type": "code",
   "execution_count": 80,
   "id": "56bccd4e-beda-4ecf-b7c1-724a5b90973c",
   "metadata": {},
   "outputs": [],
   "source": [
    "def train_on_random_splits(model, X, y, K):\n",
    "\n",
    "    reports = []\n",
    "    trained_models = []\n",
    "    \n",
    "    for i in range(K):\n",
    "\n",
    "        model = copy.deepcopy(model)\n",
    "        \n",
    "        X_train, X_test, y_train, y_test = train_test_split(X, y, test_size=0.15, stratify=y)\n",
    "\n",
    "        num_cols = [\"tenure\", 'MonthlyCharges', 'TotalCharges']\n",
    "\n",
    "        scaler= StandardScaler()\n",
    "\n",
    "        X_train[num_cols] = scaler.fit_transform(X_train[num_cols])\n",
    "        X_test[num_cols] = scaler.transform(X_test[num_cols])\n",
    "\n",
    "        oversample = SMOTE(sampling_strategy='minority')\n",
    "\n",
    "        X_resampled, y_resampled = oversample.fit_resample(X_train, y_train)\n",
    "\n",
    "        model.fit(X_resampled, y_resampled)\n",
    "        \n",
    "        predicted_y = model.predict(X_test)\n",
    "\n",
    "        report = classification_report(y_test, predicted_y, output_dict=True)[\"1.0\"]\n",
    "\n",
    "        reports.append(report)\n",
    "        trained_models.append(model)\n",
    "\n",
    "    return (trained_models, reports)"
   ]
  },
  {
   "cell_type": "markdown",
   "id": "5281c528-8de3-4a4c-9f05-ba3d0738a1d4",
   "metadata": {},
   "source": [
    "<a id=\"knn\"></a>\n",
    "## KNN "
   ]
  },
  {
   "cell_type": "code",
   "execution_count": 81,
   "id": "480e47b2-dbd8-422a-a58d-b658794a07dd",
   "metadata": {},
   "outputs": [
    {
     "name": "stdout",
     "output_type": "stream",
     "text": [
      "{'precision': 0.5105386416861827, 'recall': 0.7785714285714286, 'f1-score': 0.6166902404526167, 'support': 280.0}\n",
      "{'precision': 0.461038961038961, 'recall': 0.7607142857142857, 'f1-score': 0.5741239892183289, 'support': 280.0}\n",
      "{'precision': 0.481651376146789, 'recall': 0.75, 'f1-score': 0.5865921787709497, 'support': 280.0}\n",
      "{'precision': 0.45622119815668205, 'recall': 0.7071428571428572, 'f1-score': 0.5546218487394958, 'support': 280.0}\n",
      "{'precision': 0.4444444444444444, 'recall': 0.7285714285714285, 'f1-score': 0.5520974289580515, 'support': 280.0}\n",
      "{'precision': 0.508641975308642, 'recall': 0.7357142857142858, 'f1-score': 0.6014598540145986, 'support': 280.0}\n",
      "{'precision': 0.4618834080717489, 'recall': 0.7357142857142858, 'f1-score': 0.5674931129476584, 'support': 280.0}\n",
      "{'precision': 0.49776785714285715, 'recall': 0.7964285714285714, 'f1-score': 0.6126373626373627, 'support': 280.0}\n",
      "{'precision': 0.4598698481561822, 'recall': 0.7571428571428571, 'f1-score': 0.5721997300944669, 'support': 280.0}\n",
      "{'precision': 0.4646924829157175, 'recall': 0.7285714285714285, 'f1-score': 0.5674547983310153, 'support': 280.0}\n"
     ]
    }
   ],
   "source": [
    "knn_model = KNeighborsClassifier(n_neighbors = 10)\n",
    "knn_models, knn_reports = train_on_random_splits(knn_model, X, y, 10)\n",
    "\n",
    "for report in knn_reports:\n",
    "    print(report)"
   ]
  },
  {
   "cell_type": "markdown",
   "id": "cc2a5f90-e440-4942-8c86-6422a0a02a95",
   "metadata": {},
   "source": [
    "## Logistic Regression"
   ]
  },
  {
   "cell_type": "code",
   "execution_count": 82,
   "id": "1f38d3a9-cfa3-4c4e-bb7e-9ce8ba900c1e",
   "metadata": {},
   "outputs": [
    {
     "name": "stdout",
     "output_type": "stream",
     "text": [
      "{'precision': 0.5259433962264151, 'recall': 0.7964285714285714, 'f1-score': 0.6335227272727273, 'support': 280.0}\n",
      "{'precision': 0.4892703862660944, 'recall': 0.8142857142857143, 'f1-score': 0.6112600536193029, 'support': 280.0}\n",
      "{'precision': 0.5177777777777778, 'recall': 0.8321428571428572, 'f1-score': 0.6383561643835617, 'support': 280.0}\n",
      "{'precision': 0.5321100917431193, 'recall': 0.8285714285714286, 'f1-score': 0.6480446927374302, 'support': 280.0}\n",
      "{'precision': 0.5199063231850117, 'recall': 0.7928571428571428, 'f1-score': 0.628005657708628, 'support': 280.0}\n",
      "{'precision': 0.49563318777292575, 'recall': 0.8107142857142857, 'f1-score': 0.6151761517615176, 'support': 280.0}\n",
      "{'precision': 0.5117370892018779, 'recall': 0.7785714285714286, 'f1-score': 0.6175637393767706, 'support': 280.0}\n",
      "{'precision': 0.49776785714285715, 'recall': 0.7964285714285714, 'f1-score': 0.6126373626373627, 'support': 280.0}\n",
      "{'precision': 0.511727078891258, 'recall': 0.8571428571428571, 'f1-score': 0.6408544726301736, 'support': 280.0}\n",
      "{'precision': 0.5413533834586466, 'recall': 0.7714285714285715, 'f1-score': 0.6362297496318114, 'support': 280.0}\n"
     ]
    }
   ],
   "source": [
    "lr_model = LogisticRegression()\n",
    "lr_models, lr_reports = train_on_random_splits(lr_model, X, y, 10)\n",
    "\n",
    "for report in lr_reports:\n",
    "    print(report)"
   ]
  },
  {
   "cell_type": "markdown",
   "id": "d04a8b64-9d48-4e63-9132-c03081777bcf",
   "metadata": {},
   "source": [
    "## SVM"
   ]
  },
  {
   "cell_type": "code",
   "execution_count": 83,
   "id": "c6fbf82c-f811-47dc-ac55-f494fe7cd38e",
   "metadata": {},
   "outputs": [
    {
     "name": "stdout",
     "output_type": "stream",
     "text": [
      "{'precision': 0.5277777777777778, 'recall': 0.8142857142857143, 'f1-score': 0.6404494382022472, 'support': 280.0}\n",
      "{'precision': 0.5195402298850574, 'recall': 0.8071428571428572, 'f1-score': 0.6321678321678321, 'support': 280.0}\n",
      "{'precision': 0.5067264573991032, 'recall': 0.8071428571428572, 'f1-score': 0.6225895316804407, 'support': 280.0}\n",
      "{'precision': 0.5046511627906977, 'recall': 0.775, 'f1-score': 0.6112676056338028, 'support': 280.0}\n",
      "{'precision': 0.49665924276169265, 'recall': 0.7964285714285714, 'f1-score': 0.6117969821673526, 'support': 280.0}\n",
      "{'precision': 0.5333333333333333, 'recall': 0.7714285714285715, 'f1-score': 0.6306569343065693, 'support': 280.0}\n",
      "{'precision': 0.5111111111111111, 'recall': 0.8214285714285714, 'f1-score': 0.6301369863013698, 'support': 280.0}\n",
      "{'precision': 0.5077262693156733, 'recall': 0.8214285714285714, 'f1-score': 0.6275579809004093, 'support': 280.0}\n",
      "{'precision': 0.5155131264916468, 'recall': 0.7714285714285715, 'f1-score': 0.6180257510729614, 'support': 280.0}\n",
      "{'precision': 0.542713567839196, 'recall': 0.7714285714285715, 'f1-score': 0.6371681415929203, 'support': 280.0}\n"
     ]
    }
   ],
   "source": [
    "svc_model = LogisticRegression()\n",
    "svc_models, svc_reports = train_on_random_splits(svc_model, X, y, 10)\n",
    "\n",
    "for report in svc_reports:\n",
    "    print(report)"
   ]
  },
  {
   "cell_type": "code",
   "execution_count": 84,
   "id": "f9da2c96-5a0a-4cfb-83ac-b06c261bd1cc",
   "metadata": {},
   "outputs": [
    {
     "name": "stdout",
     "output_type": "stream",
     "text": [
      "{'precision': 0.5347721822541966, 'recall': 0.7964285714285714, 'f1-score': 0.6398852223816356, 'support': 280.0}\n",
      "{'precision': 0.5373493975903615, 'recall': 0.7964285714285714, 'f1-score': 0.641726618705036, 'support': 280.0}\n",
      "{'precision': 0.5278450363196125, 'recall': 0.7785714285714286, 'f1-score': 0.6291486291486291, 'support': 280.0}\n",
      "{'precision': 0.5241545893719807, 'recall': 0.775, 'f1-score': 0.6253602305475504, 'support': 280.0}\n",
      "{'precision': 0.5371287128712872, 'recall': 0.775, 'f1-score': 0.6345029239766082, 'support': 280.0}\n",
      "{'precision': 0.5099502487562189, 'recall': 0.7321428571428571, 'f1-score': 0.6011730205278593, 'support': 280.0}\n",
      "{'precision': 0.5169902912621359, 'recall': 0.7607142857142857, 'f1-score': 0.615606936416185, 'support': 280.0}\n",
      "{'precision': 0.5142857142857142, 'recall': 0.7714285714285715, 'f1-score': 0.6171428571428571, 'support': 280.0}\n",
      "{'precision': 0.5546875, 'recall': 0.7607142857142857, 'f1-score': 0.641566265060241, 'support': 280.0}\n",
      "{'precision': 0.5260663507109005, 'recall': 0.7928571428571428, 'f1-score': 0.6324786324786325, 'support': 280.0}\n"
     ]
    }
   ],
   "source": [
    "rf_model = RandomForestClassifier(n_estimators=150, n_jobs = -1, max_leaf_nodes = 30)\n",
    "rf_models, rf_reports = train_on_random_splits(rf_model, X, y, 10)\n",
    "\n",
    "for report in rf_reports:\n",
    "    print(report)"
   ]
  },
  {
   "cell_type": "markdown",
   "id": "e4c14b57-5ac6-4ba6-9330-41d8f77e98e2",
   "metadata": {},
   "source": [
    "## AdaBoost"
   ]
  },
  {
   "cell_type": "code",
   "execution_count": 85,
   "id": "2666b81e-8fee-40ab-9fe7-fc3bb99403fd",
   "metadata": {},
   "outputs": [
    {
     "name": "stdout",
     "output_type": "stream",
     "text": [
      "{'precision': 0.5688775510204082, 'recall': 0.7964285714285714, 'f1-score': 0.6636904761904762, 'support': 280.0}\n",
      "{'precision': 0.5571030640668524, 'recall': 0.7142857142857143, 'f1-score': 0.6259780907668232, 'support': 280.0}\n",
      "{'precision': 0.548051948051948, 'recall': 0.7535714285714286, 'f1-score': 0.6345864661654136, 'support': 280.0}\n",
      "{'precision': 0.548469387755102, 'recall': 0.7678571428571429, 'f1-score': 0.6398809523809523, 'support': 280.0}\n",
      "{'precision': 0.514218009478673, 'recall': 0.775, 'f1-score': 0.6182336182336182, 'support': 280.0}\n",
      "{'precision': 0.5298165137614679, 'recall': 0.825, 'f1-score': 0.6452513966480447, 'support': 280.0}\n",
      "{'precision': 0.5118483412322274, 'recall': 0.7714285714285715, 'f1-score': 0.6153846153846154, 'support': 280.0}\n",
      "{'precision': 0.5295508274231678, 'recall': 0.8, 'f1-score': 0.6372688477951636, 'support': 280.0}\n",
      "{'precision': 0.5204081632653061, 'recall': 0.7285714285714285, 'f1-score': 0.6071428571428571, 'support': 280.0}\n",
      "{'precision': 0.5543766578249337, 'recall': 0.7464285714285714, 'f1-score': 0.6362252663622526, 'support': 280.0}\n"
     ]
    }
   ],
   "source": [
    "ada_model = AdaBoostClassifier(algorithm=\"SAMME\")\n",
    "ada_models, ada_reports = train_on_random_splits(ada_model, X, y, 10)\n",
    "\n",
    "for report in ada_reports:\n",
    "    print(report)"
   ]
  },
  {
   "cell_type": "code",
   "execution_count": null,
   "id": "ae254e25-82da-4d16-84ec-496e97244e77",
   "metadata": {},
   "outputs": [],
   "source": []
  }
 ],
 "metadata": {
  "kernelspec": {
   "display_name": "Python 3 (ipykernel)",
   "language": "python",
   "name": "python3"
  },
  "language_info": {
   "codemirror_mode": {
    "name": "ipython",
    "version": 3
   },
   "file_extension": ".py",
   "mimetype": "text/x-python",
   "name": "python",
   "nbconvert_exporter": "python",
   "pygments_lexer": "ipython3",
   "version": "3.11.6"
  }
 },
 "nbformat": 4,
 "nbformat_minor": 5
}
