{
 "cells": [
  {
   "cell_type": "markdown",
   "id": "e16a3bef-4fbc-4aa5-8a19-f58e646046ff",
   "metadata": {},
   "source": [
    "# Model Applying\n",
    "\n",
    "Let's look how different models solve this problem. We have a task of binary classification.\n",
    "\n",
    "First of all we need to recall that we have 3 non-categorical features. Each of them has different scale (For example TotalCharges has value from 0 to 8000)"
   ]
  },
  {
   "cell_type": "code",
   "execution_count": 5,
   "id": "423a54bf-faea-4ce4-9706-cfa824a9e809",
   "metadata": {},
   "outputs": [],
   "source": [
    "import pandas as pd\n",
    "import numpy as np\n",
    "from sklearn.preprocessing import StandardScaler\n",
    "from sklearn.tree import DecisionTreeClassifier\n",
    "from sklearn.ensemble import RandomForestClassifier\n",
    "from sklearn.neighbors import KNeighborsClassifier\n",
    "from sklearn.svm import SVC\n",
    "from sklearn.ensemble import AdaBoostClassifier\n",
    "from sklearn.ensemble import ExtraTreesClassifier\n",
    "from sklearn.linear_model import LogisticRegression\n",
    "from sklearn.model_selection import train_test_split\n",
    "from sklearn.metrics import accuracy_score\n",
    "from catboost import CatBoostClassifier\n",
    "from sklearn import metrics\n",
    "from sklearn.metrics import recall_score, confusion_matrix, precision_score, f1_score, accuracy_score, classification_report"
   ]
  },
  {
   "cell_type": "code",
   "execution_count": 9,
   "id": "393957c1-9d22-4b26-86ea-c57ef11a637e",
   "metadata": {},
   "outputs": [],
   "source": [
    "data=pd.read_csv(\"data.csv\")\n",
    "enc_data=pd.read_csv(\"encoded_data.csv\")"
   ]
  },
  {
   "cell_type": "markdown",
   "id": "1a139f45-994e-490d-aa43-5058136148d6",
   "metadata": {},
   "source": [
    "## Content\n",
    "\n",
    "<ol>\n",
    "    <li><a href=\"#feature-scaling\">Feature scaling</a></li>\n",
    "    <li><a href=\"#knn\">KNN</a>\n",
    "        <ul>\n",
    "            <li><a href=\"#knn-training\">Training</a></li>\n",
    "            <li><a href=\"#knn-evaluating\">Evaluating</a></li>\n",
    "        </ul>\n",
    "    </li>\n",
    "</ol>"
   ]
  },
  {
   "cell_type": "markdown",
   "id": "30035bea-7a68-492f-bb09-f8988d423478",
   "metadata": {},
   "source": [
    "<a id=\"feature-scaling\"></a>\n",
    "## Feature scaling\n",
    "\n",
    "For the scaling of numerical features the standart scaling was choosen. At first we need to split our data into train and test subsets.\n",
    "Only after this we are able to use Scaler because if we Scale our data before splitting the test set will have some information about train set."
   ]
  },
  {
   "cell_type": "code",
   "execution_count": 14,
   "id": "c010a4c1-1001-4c51-9145-a87c0acf7510",
   "metadata": {},
   "outputs": [
    {
     "name": "stdout",
     "output_type": "stream",
     "text": [
      "<class 'pandas.core.frame.DataFrame'>\n",
      "RangeIndex: 7043 entries, 0 to 7042\n",
      "Data columns (total 26 columns):\n",
      " #   Column                                   Non-Null Count  Dtype  \n",
      "---  ------                                   --------------  -----  \n",
      " 0   gender                                   7043 non-null   float64\n",
      " 1   SeniorCitizen                            7043 non-null   float64\n",
      " 2   Partner                                  7043 non-null   float64\n",
      " 3   Dependents                               7043 non-null   float64\n",
      " 4   tenure                                   7043 non-null   float64\n",
      " 5   PhoneService                             7043 non-null   float64\n",
      " 6   MultipleLines                            7043 non-null   float64\n",
      " 7   OnlineSecurity                           7043 non-null   float64\n",
      " 8   OnlineBackup                             7043 non-null   float64\n",
      " 9   DeviceProtection                         7043 non-null   float64\n",
      " 10  TechSupport                              7043 non-null   float64\n",
      " 11  StreamingTV                              7043 non-null   float64\n",
      " 12  StreamingMovies                          7043 non-null   float64\n",
      " 13  PaperlessBilling                         7043 non-null   float64\n",
      " 14  MonthlyCharges                           7043 non-null   float64\n",
      " 15  TotalCharges                             7043 non-null   float64\n",
      " 16  InternetService_DSL                      7043 non-null   float64\n",
      " 17  InternetService_Fiber optic              7043 non-null   float64\n",
      " 18  InternetService_No                       7043 non-null   float64\n",
      " 19  Contract_Month-to-month                  7043 non-null   float64\n",
      " 20  Contract_One year                        7043 non-null   float64\n",
      " 21  Contract_Two year                        7043 non-null   float64\n",
      " 22  PaymentMethod_Bank transfer (automatic)  7043 non-null   float64\n",
      " 23  PaymentMethod_Credit card (automatic)    7043 non-null   float64\n",
      " 24  PaymentMethod_Electronic check           7043 non-null   float64\n",
      " 25  PaymentMethod_Mailed check               7043 non-null   float64\n",
      "dtypes: float64(26)\n",
      "memory usage: 1.4 MB\n"
     ]
    }
   ],
   "source": [
    "X = enc_data.drop(columns = ['Churn', \"customerID\"])\n",
    "y = enc_data['Churn'].values\n",
    "X.info()"
   ]
  },
  {
   "cell_type": "markdown",
   "id": "6f63e358-5c64-45ea-93d9-c2b35d423368",
   "metadata": {},
   "source": [
    "During the splitting we will ue stratification technique because we have disbalance in our target classes"
   ]
  },
  {
   "cell_type": "code",
   "execution_count": 15,
   "id": "5738c6ca-71f1-4faf-a6ac-6ea8c6cf412d",
   "metadata": {},
   "outputs": [],
   "source": [
    "X_train, X_test, y_train, y_test = train_test_split(X,y,test_size=0.25, random_state=5, stratify=y)"
   ]
  },
  {
   "cell_type": "code",
   "execution_count": 16,
   "id": "61873611-e7c9-4c5b-bb16-84ba704ced08",
   "metadata": {},
   "outputs": [],
   "source": [
    "num_cols = [\"tenure\", 'MonthlyCharges', 'TotalCharges']\n",
    "\n",
    "scaler= StandardScaler()\n",
    "\n",
    "X_train[num_cols] = scaler.fit_transform(X_train[num_cols])\n",
    "X_test[num_cols] = scaler.transform(X_test[num_cols])"
   ]
  },
  {
   "cell_type": "markdown",
   "id": "e79d407f-8635-4eb9-a896-33ac21ce35af",
   "metadata": {},
   "source": [
    "<a id=\"knn\"></a>\n",
    "## KNN \n",
    "The first model that we will try to apply will be KNN"
   ]
  },
  {
   "cell_type": "markdown",
   "id": "607c4fc7-a582-4129-bfeb-81ca7a5bb4d9",
   "metadata": {},
   "source": [
    "<a id=\"knn-training\"></a>\n",
    "### KNN Training"
   ]
  },
  {
   "cell_type": "code",
   "execution_count": 17,
   "id": "2498a374-83aa-4fa2-aa3a-e814a3a5d185",
   "metadata": {},
   "outputs": [
    {
     "name": "stdout",
     "output_type": "stream",
     "text": [
      "KNN accuracy: 0.7836456558773425\n"
     ]
    }
   ],
   "source": [
    "knn_model = KNeighborsClassifier(n_neighbors = 10)\n",
    "knn_model.fit(X_train,y_train)\n",
    "predicted_y = knn_model.predict(X_test)\n",
    "accuracy_knn = knn_model.score(X_test,y_test)\n",
    "print(\"KNN accuracy:\",accuracy_knn)"
   ]
  },
  {
   "cell_type": "code",
   "execution_count": null,
   "id": "2fef352d-61be-45a9-8a5f-9b210f151af7",
   "metadata": {},
   "outputs": [],
   "source": []
  }
 ],
 "metadata": {
  "kernelspec": {
   "display_name": "Python 3 (ipykernel)",
   "language": "python",
   "name": "python3"
  },
  "language_info": {
   "codemirror_mode": {
    "name": "ipython",
    "version": 3
   },
   "file_extension": ".py",
   "mimetype": "text/x-python",
   "name": "python",
   "nbconvert_exporter": "python",
   "pygments_lexer": "ipython3",
   "version": "3.11.6"
  }
 },
 "nbformat": 4,
 "nbformat_minor": 5
}
